{
 "cells": [
  {
   "cell_type": "code",
   "execution_count": 1,
   "metadata": {},
   "outputs": [],
   "source": [
    "import numpy as np\n",
    "import pandas as pd\n",
    "import matplotlib.pyplot as plt\n",
    "import warnings\n",
    "warnings.filterwarnings('ignore')"
   ]
  },
  {
   "cell_type": "code",
   "execution_count": 2,
   "metadata": {},
   "outputs": [],
   "source": [
    "batch_size_exp = 1\n",
    "epoch_exp = 7\n",
    "neurons_exp = 10\n",
    "predict_values_exp = 72\n",
    "lag_exp=24"
   ]
  },
  {
   "cell_type": "code",
   "execution_count": 3,
   "metadata": {},
   "outputs": [],
   "source": [
    "# frame a sequence as a supervised learning problem\n",
    "def timeseries_to_supervised(data, lag=1):\n",
    "    df = pd.DataFrame(data)\n",
    "    columns = [df.shift(i) for i in range(1, lag+1)]\n",
    "    columns.append(df)\n",
    "    df = pd.concat(columns, axis=1)\n",
    "    df.fillna(0, inplace=True)\n",
    "    return df"
   ]
  },
  {
   "cell_type": "code",
   "execution_count": 4,
   "metadata": {},
   "outputs": [],
   "source": [
    "# create a differenced series\n",
    "def difference(dataset, interval=1):\n",
    "    diff = list()\n",
    "    for i in range(interval, len(dataset)):\n",
    "        value = dataset[i] - dataset[i - interval]\n",
    "        diff.append(value)\n",
    "    return pd.Series(diff)"
   ]
  },
  {
   "cell_type": "code",
   "execution_count": 5,
   "metadata": {},
   "outputs": [],
   "source": [
    "# invert differenced value\n",
    "def inverse_difference(history, yhat, interval=1):\n",
    "    return yhat + history[-interval]"
   ]
  },
  {
   "cell_type": "code",
   "execution_count": 6,
   "metadata": {},
   "outputs": [],
   "source": [
    "from sklearn.preprocessing import MinMaxScaler"
   ]
  },
  {
   "cell_type": "code",
   "execution_count": 7,
   "metadata": {},
   "outputs": [],
   "source": [
    "# scale train and test data to [-1, 1]\n",
    "def scale(train, test):\n",
    "    # fit scaler\n",
    "    scaler = MinMaxScaler(feature_range=(-1, 1))\n",
    "    scaler = scaler.fit(train)\n",
    "    # transform train\n",
    "    train = train.reshape(train.shape[0], train.shape[1])\n",
    "    train_scaled = scaler.transform(train)\n",
    "    # transform test\n",
    "    test = test.reshape(test.shape[0], test.shape[1])\n",
    "    test_scaled = scaler.transform(test)\n",
    "    return scaler, train_scaled, test_scaled"
   ]
  },
  {
   "cell_type": "code",
   "execution_count": 8,
   "metadata": {},
   "outputs": [],
   "source": [
    "# inverse scaling for a forecasted value\n",
    "def invert_scale(scaler, X, value):\n",
    "    new_row = [x for x in X] + [value]\n",
    "    array = np.array(new_row)\n",
    "    array = array.reshape(1, len(array))\n",
    "    inverted = scaler.inverse_transform(array)\n",
    "    return inverted[0, -1]"
   ]
  },
  {
   "cell_type": "code",
   "execution_count": 10,
   "metadata": {},
   "outputs": [],
   "source": [
    "from keras.layers import LSTM, Dense\n",
    "from keras.models import Sequential"
   ]
  },
  {
   "cell_type": "code",
   "execution_count": 11,
   "metadata": {},
   "outputs": [],
   "source": [
    "def fit_lstm(train, batch_size, nb_epoch, neurons):\n",
    "    X, y = train[:, 0:-1], train[:, -1]\n",
    "    X = X.reshape(X.shape[0], 1, X.shape[1])\n",
    "    model = Sequential()\n",
    "    model.add(LSTM(neurons, batch_input_shape=(batch_size, X.shape[1], X.shape[2]), stateful=True))\n",
    "    model.add(Dense(1))\n",
    "    model.compile(loss='mean_squared_error', optimizer='adam')\n",
    "    for i in range(nb_epoch):\n",
    "        model.fit(X, y, epochs=1, batch_size=batch_size, verbose=1, shuffle=False)\n",
    "        model.reset_states()\n",
    "    return model"
   ]
  },
  {
   "cell_type": "code",
   "execution_count": 12,
   "metadata": {},
   "outputs": [],
   "source": [
    "# make a one-step forecast\n",
    "def forecast_lstm(model, batch_size, X):\n",
    "    X = X.reshape(1, 1, len(X))\n",
    "    #print(X)\n",
    "    yhat = model.predict(X, batch_size=1)\n",
    "    return yhat[0,0]"
   ]
  },
  {
   "cell_type": "code",
   "execution_count": 13,
   "metadata": {},
   "outputs": [],
   "source": [
    "# Load Data\n",
    "data = pd.read_csv('T1.csv', index_col='Date/Time')"
   ]
  },
  {
   "cell_type": "code",
   "execution_count": 14,
   "metadata": {},
   "outputs": [
    {
     "data": {
      "text/html": [
       "<div>\n",
       "<style scoped>\n",
       "    .dataframe tbody tr th:only-of-type {\n",
       "        vertical-align: middle;\n",
       "    }\n",
       "\n",
       "    .dataframe tbody tr th {\n",
       "        vertical-align: top;\n",
       "    }\n",
       "\n",
       "    .dataframe thead th {\n",
       "        text-align: right;\n",
       "    }\n",
       "</style>\n",
       "<table border=\"1\" class=\"dataframe\">\n",
       "  <thead>\n",
       "    <tr style=\"text-align: right;\">\n",
       "      <th></th>\n",
       "      <th>LV ActivePower (kW)</th>\n",
       "      <th>Wind Speed (m/s)</th>\n",
       "      <th>Theoretical_Power_Curve (KWh)</th>\n",
       "      <th>Wind Direction (°)</th>\n",
       "    </tr>\n",
       "    <tr>\n",
       "      <th>Date/Time</th>\n",
       "      <th></th>\n",
       "      <th></th>\n",
       "      <th></th>\n",
       "      <th></th>\n",
       "    </tr>\n",
       "  </thead>\n",
       "  <tbody>\n",
       "    <tr>\n",
       "      <th>01 01 2018 00:00</th>\n",
       "      <td>380.047791</td>\n",
       "      <td>5.311336</td>\n",
       "      <td>416.328908</td>\n",
       "      <td>259.994904</td>\n",
       "    </tr>\n",
       "    <tr>\n",
       "      <th>01 01 2018 00:10</th>\n",
       "      <td>453.769196</td>\n",
       "      <td>5.672167</td>\n",
       "      <td>519.917511</td>\n",
       "      <td>268.641113</td>\n",
       "    </tr>\n",
       "    <tr>\n",
       "      <th>01 01 2018 00:20</th>\n",
       "      <td>306.376587</td>\n",
       "      <td>5.216037</td>\n",
       "      <td>390.900016</td>\n",
       "      <td>272.564789</td>\n",
       "    </tr>\n",
       "    <tr>\n",
       "      <th>01 01 2018 00:30</th>\n",
       "      <td>419.645904</td>\n",
       "      <td>5.659674</td>\n",
       "      <td>516.127569</td>\n",
       "      <td>271.258087</td>\n",
       "    </tr>\n",
       "    <tr>\n",
       "      <th>01 01 2018 00:40</th>\n",
       "      <td>380.650696</td>\n",
       "      <td>5.577941</td>\n",
       "      <td>491.702972</td>\n",
       "      <td>265.674286</td>\n",
       "    </tr>\n",
       "  </tbody>\n",
       "</table>\n",
       "</div>"
      ],
      "text/plain": [
       "                  LV ActivePower (kW)  Wind Speed (m/s)   \n",
       "Date/Time                                                 \n",
       "01 01 2018 00:00           380.047791          5.311336  \\\n",
       "01 01 2018 00:10           453.769196          5.672167   \n",
       "01 01 2018 00:20           306.376587          5.216037   \n",
       "01 01 2018 00:30           419.645904          5.659674   \n",
       "01 01 2018 00:40           380.650696          5.577941   \n",
       "\n",
       "                  Theoretical_Power_Curve (KWh)  Wind Direction (°)  \n",
       "Date/Time                                                            \n",
       "01 01 2018 00:00                     416.328908          259.994904  \n",
       "01 01 2018 00:10                     519.917511          268.641113  \n",
       "01 01 2018 00:20                     390.900016          272.564789  \n",
       "01 01 2018 00:30                     516.127569          271.258087  \n",
       "01 01 2018 00:40                     491.702972          265.674286  "
      ]
     },
     "execution_count": 14,
     "metadata": {},
     "output_type": "execute_result"
    }
   ],
   "source": [
    "data.head()"
   ]
  },
  {
   "cell_type": "code",
   "execution_count": 18,
   "metadata": {},
   "outputs": [],
   "source": [
    "# Drop columns\n",
    "data = data.drop(['LV ActivePower (kW)', 'Wind Speed (m/s)', 'Theoretical_Power_Curve (KWh)'], axis=1)"
   ]
  },
  {
   "cell_type": "code",
   "execution_count": 19,
   "metadata": {},
   "outputs": [
    {
     "data": {
      "text/html": [
       "<div>\n",
       "<style scoped>\n",
       "    .dataframe tbody tr th:only-of-type {\n",
       "        vertical-align: middle;\n",
       "    }\n",
       "\n",
       "    .dataframe tbody tr th {\n",
       "        vertical-align: top;\n",
       "    }\n",
       "\n",
       "    .dataframe thead th {\n",
       "        text-align: right;\n",
       "    }\n",
       "</style>\n",
       "<table border=\"1\" class=\"dataframe\">\n",
       "  <thead>\n",
       "    <tr style=\"text-align: right;\">\n",
       "      <th></th>\n",
       "      <th>Wind Direction (°)</th>\n",
       "    </tr>\n",
       "    <tr>\n",
       "      <th>Date/Time</th>\n",
       "      <th></th>\n",
       "    </tr>\n",
       "  </thead>\n",
       "  <tbody>\n",
       "    <tr>\n",
       "      <th>01 01 2018 00:00</th>\n",
       "      <td>259.994904</td>\n",
       "    </tr>\n",
       "    <tr>\n",
       "      <th>01 01 2018 00:10</th>\n",
       "      <td>268.641113</td>\n",
       "    </tr>\n",
       "    <tr>\n",
       "      <th>01 01 2018 00:20</th>\n",
       "      <td>272.564789</td>\n",
       "    </tr>\n",
       "    <tr>\n",
       "      <th>01 01 2018 00:30</th>\n",
       "      <td>271.258087</td>\n",
       "    </tr>\n",
       "    <tr>\n",
       "      <th>01 01 2018 00:40</th>\n",
       "      <td>265.674286</td>\n",
       "    </tr>\n",
       "  </tbody>\n",
       "</table>\n",
       "</div>"
      ],
      "text/plain": [
       "                  Wind Direction (°)\n",
       "Date/Time                           \n",
       "01 01 2018 00:00          259.994904\n",
       "01 01 2018 00:10          268.641113\n",
       "01 01 2018 00:20          272.564789\n",
       "01 01 2018 00:30          271.258087\n",
       "01 01 2018 00:40          265.674286"
      ]
     },
     "execution_count": 19,
     "metadata": {},
     "output_type": "execute_result"
    }
   ],
   "source": [
    "data.head()"
   ]
  },
  {
   "cell_type": "code",
   "execution_count": 21,
   "metadata": {},
   "outputs": [
    {
     "data": {
      "text/html": [
       "<div>\n",
       "<style scoped>\n",
       "    .dataframe tbody tr th:only-of-type {\n",
       "        vertical-align: middle;\n",
       "    }\n",
       "\n",
       "    .dataframe tbody tr th {\n",
       "        vertical-align: top;\n",
       "    }\n",
       "\n",
       "    .dataframe thead th {\n",
       "        text-align: right;\n",
       "    }\n",
       "</style>\n",
       "<table border=\"1\" class=\"dataframe\">\n",
       "  <thead>\n",
       "    <tr style=\"text-align: right;\">\n",
       "      <th></th>\n",
       "      <th>Wind Direction (°)</th>\n",
       "    </tr>\n",
       "    <tr>\n",
       "      <th>Date/Time</th>\n",
       "      <th></th>\n",
       "    </tr>\n",
       "  </thead>\n",
       "  <tbody>\n",
       "    <tr>\n",
       "      <th>31 12 2018 23:10</th>\n",
       "      <td>80.502724</td>\n",
       "    </tr>\n",
       "    <tr>\n",
       "      <th>31 12 2018 23:20</th>\n",
       "      <td>84.062599</td>\n",
       "    </tr>\n",
       "    <tr>\n",
       "      <th>31 12 2018 23:30</th>\n",
       "      <td>84.742500</td>\n",
       "    </tr>\n",
       "    <tr>\n",
       "      <th>31 12 2018 23:40</th>\n",
       "      <td>84.297913</td>\n",
       "    </tr>\n",
       "    <tr>\n",
       "      <th>31 12 2018 23:50</th>\n",
       "      <td>82.274620</td>\n",
       "    </tr>\n",
       "  </tbody>\n",
       "</table>\n",
       "</div>"
      ],
      "text/plain": [
       "                  Wind Direction (°)\n",
       "Date/Time                           \n",
       "31 12 2018 23:10           80.502724\n",
       "31 12 2018 23:20           84.062599\n",
       "31 12 2018 23:30           84.742500\n",
       "31 12 2018 23:40           84.297913\n",
       "31 12 2018 23:50           82.274620"
      ]
     },
     "execution_count": 21,
     "metadata": {},
     "output_type": "execute_result"
    }
   ],
   "source": [
    "# Last five rows\n",
    "data.tail()"
   ]
  },
  {
   "cell_type": "code",
   "execution_count": 22,
   "metadata": {},
   "outputs": [
    {
     "data": {
      "text/plain": [
       "(50530, 1)"
      ]
     },
     "execution_count": 22,
     "metadata": {},
     "output_type": "execute_result"
    }
   ],
   "source": [
    "# number of rows in dataset\n",
    "data.shape"
   ]
  },
  {
   "cell_type": "code",
   "execution_count": 23,
   "metadata": {},
   "outputs": [],
   "source": [
    "# transform data to be stationary\n",
    "raw_values = data.values\n",
    "diff_values = difference(raw_values, 1)"
   ]
  },
  {
   "cell_type": "code",
   "execution_count": 24,
   "metadata": {},
   "outputs": [],
   "source": [
    "# transform data to be supervised learning\n",
    "supervised = timeseries_to_supervised(diff_values, lag_exp)\n",
    "supervised_values = supervised.values"
   ]
  },
  {
   "cell_type": "code",
   "execution_count": 25,
   "metadata": {},
   "outputs": [],
   "source": [
    "# split data into train and test-sets\n",
    "train, test = supervised_values[0:-predict_values_exp], supervised_values[-predict_values_exp:]"
   ]
  },
  {
   "cell_type": "code",
   "execution_count": 26,
   "metadata": {},
   "outputs": [],
   "source": [
    "# transform the scale of the data\n",
    "scaler, train_scaled, test_scaled = scale(train, test)"
   ]
  },
  {
   "cell_type": "code",
   "execution_count": 27,
   "metadata": {},
   "outputs": [
    {
     "name": "stdout",
     "output_type": "stream",
     "text": [
      "50457/50457 [==============================] - 479s 9ms/step - loss: 0.0112\n",
      "50457/50457 [==============================] - 135s 3ms/step - loss: 0.0109\n",
      "50457/50457 [==============================] - 167s 3ms/step - loss: 0.0108\n",
      "50457/50457 [==============================] - 167s 3ms/step - loss: 0.0107\n",
      "50457/50457 [==============================] - 495s 10ms/step - loss: 0.0107\n",
      "50457/50457 [==============================] - 132s 3ms/step - loss: 0.0106\n",
      "50457/50457 [==============================] - 132s 3ms/step - loss: 0.0105\n"
     ]
    }
   ],
   "source": [
    "model = fit_lstm(train_scaled, batch_size_exp, epoch_exp, neurons_exp)\n"
   ]
  },
  {
   "cell_type": "code",
   "execution_count": 28,
   "metadata": {},
   "outputs": [
    {
     "name": "stdout",
     "output_type": "stream",
     "text": [
      "1/1 [==============================] - 0s 420ms/step\n",
      "Hour=1, Predicted=86.677959, Expected=87.310623\n",
      "1/1 [==============================] - 0s 25ms/step\n",
      "Hour=2, Predicted=87.777589, Expected=89.737091\n",
      "1/1 [==============================] - 0s 27ms/step\n",
      "Hour=3, Predicted=96.936687, Expected=82.736252\n",
      "1/1 [==============================] - 0s 25ms/step\n",
      "Hour=4, Predicted=72.374856, Expected=81.974297\n",
      "1/1 [==============================] - 0s 26ms/step\n",
      "Hour=5, Predicted=84.738065, Expected=73.194389\n",
      "1/1 [==============================] - 0s 27ms/step\n",
      "Hour=6, Predicted=74.986302, Expected=75.005074\n",
      "1/1 [==============================] - 0s 25ms/step\n",
      "Hour=7, Predicted=84.543271, Expected=79.551987\n",
      "1/1 [==============================] - 0s 24ms/step\n",
      "Hour=8, Predicted=72.512231, Expected=76.018478\n",
      "1/1 [==============================] - 0s 26ms/step\n",
      "Hour=9, Predicted=73.265489, Expected=78.276291\n",
      "1/1 [==============================] - 0s 24ms/step\n",
      "Hour=10, Predicted=79.339063, Expected=68.145531\n",
      "1/1 [==============================] - 0s 25ms/step\n",
      "Hour=11, Predicted=71.017062, Expected=71.954659\n",
      "1/1 [==============================] - 0s 34ms/step\n",
      "Hour=12, Predicted=71.904192, Expected=69.709587\n",
      "1/1 [==============================] - 0s 24ms/step\n",
      "Hour=13, Predicted=69.835690, Expected=63.816212\n",
      "1/1 [==============================] - 0s 24ms/step\n",
      "Hour=14, Predicted=64.160820, Expected=56.398918\n",
      "1/1 [==============================] - 0s 26ms/step\n",
      "Hour=15, Predicted=59.092111, Expected=57.145569\n",
      "1/1 [==============================] - 0s 28ms/step\n",
      "Hour=16, Predicted=57.310918, Expected=55.499611\n",
      "1/1 [==============================] - 0s 24ms/step\n",
      "Hour=17, Predicted=56.536593, Expected=57.752941\n",
      "1/1 [==============================] - 0s 26ms/step\n",
      "Hour=18, Predicted=59.253248, Expected=65.545662\n",
      "1/1 [==============================] - 0s 25ms/step\n",
      "Hour=19, Predicted=67.942847, Expected=67.542412\n",
      "1/1 [==============================] - 0s 24ms/step\n",
      "Hour=20, Predicted=66.842019, Expected=67.638237\n",
      "1/1 [==============================] - 0s 26ms/step\n",
      "Hour=21, Predicted=69.352749, Expected=70.322388\n",
      "1/1 [==============================] - 0s 27ms/step\n",
      "Hour=22, Predicted=70.543029, Expected=72.430473\n",
      "1/1 [==============================] - 0s 26ms/step\n",
      "Hour=23, Predicted=74.011594, Expected=74.770714\n",
      "1/1 [==============================] - 0s 25ms/step\n",
      "Hour=24, Predicted=75.595431, Expected=74.835281\n",
      "1/1 [==============================] - 0s 24ms/step\n",
      "Hour=25, Predicted=76.709579, Expected=76.580833\n",
      "1/1 [==============================] - 0s 24ms/step\n",
      "Hour=26, Predicted=76.610208, Expected=74.678101\n",
      "1/1 [==============================] - 0s 24ms/step\n",
      "Hour=27, Predicted=75.563017, Expected=75.286987\n",
      "1/1 [==============================] - 0s 23ms/step\n",
      "Hour=28, Predicted=76.116510, Expected=76.233170\n",
      "1/1 [==============================] - 0s 26ms/step\n",
      "Hour=29, Predicted=77.919999, Expected=76.356567\n",
      "1/1 [==============================] - 0s 26ms/step\n",
      "Hour=30, Predicted=77.005795, Expected=76.052834\n",
      "1/1 [==============================] - 0s 25ms/step\n",
      "Hour=31, Predicted=76.482529, Expected=85.393311\n",
      "1/1 [==============================] - 0s 24ms/step\n",
      "Hour=32, Predicted=86.291991, Expected=85.161186\n",
      "1/1 [==============================] - 0s 25ms/step\n",
      "Hour=33, Predicted=86.377462, Expected=81.050690\n",
      "1/1 [==============================] - 0s 25ms/step\n",
      "Hour=34, Predicted=81.726009, Expected=86.718536\n",
      "1/1 [==============================] - 0s 28ms/step\n",
      "Hour=35, Predicted=87.556546, Expected=91.986732\n",
      "1/1 [==============================] - 0s 24ms/step\n",
      "Hour=36, Predicted=92.681115, Expected=94.691391\n",
      "1/1 [==============================] - 0s 24ms/step\n",
      "Hour=37, Predicted=95.785223, Expected=92.350723\n",
      "1/1 [==============================] - 0s 24ms/step\n",
      "Hour=38, Predicted=93.165099, Expected=91.588493\n",
      "1/1 [==============================] - 0s 25ms/step\n",
      "Hour=39, Predicted=92.413184, Expected=94.329742\n",
      "1/1 [==============================] - 0s 26ms/step\n",
      "Hour=40, Predicted=95.069948, Expected=98.706261\n",
      "1/1 [==============================] - 0s 27ms/step\n",
      "Hour=41, Predicted=99.825793, Expected=97.239059\n",
      "1/1 [==============================] - 0s 25ms/step\n",
      "Hour=42, Predicted=97.999281, Expected=99.136337\n",
      "1/1 [==============================] - 0s 26ms/step\n",
      "Hour=43, Predicted=100.042803, Expected=97.632187\n",
      "1/1 [==============================] - 0s 27ms/step\n",
      "Hour=44, Predicted=98.455114, Expected=90.309258\n",
      "1/1 [==============================] - 0s 26ms/step\n",
      "Hour=45, Predicted=91.256579, Expected=87.520317\n",
      "1/1 [==============================] - 0s 24ms/step\n",
      "Hour=46, Predicted=88.377740, Expected=84.240913\n",
      "1/1 [==============================] - 0s 40ms/step\n",
      "Hour=47, Predicted=85.232130, Expected=78.987038\n",
      "1/1 [==============================] - 0s 29ms/step\n",
      "Hour=48, Predicted=79.825018, Expected=79.042793\n",
      "1/1 [==============================] - 0s 26ms/step\n",
      "Hour=49, Predicted=79.917757, Expected=78.169724\n",
      "1/1 [==============================] - 0s 28ms/step\n",
      "Hour=50, Predicted=79.057819, Expected=78.773773\n",
      "1/1 [==============================] - 0s 25ms/step\n",
      "Hour=51, Predicted=79.736059, Expected=80.061111\n",
      "1/1 [==============================] - 0s 25ms/step\n",
      "Hour=52, Predicted=80.958784, Expected=81.279243\n",
      "1/1 [==============================] - 0s 24ms/step\n",
      "Hour=53, Predicted=82.144680, Expected=79.519127\n",
      "1/1 [==============================] - 0s 26ms/step\n",
      "Hour=54, Predicted=80.391374, Expected=81.056862\n",
      "1/1 [==============================] - 0s 24ms/step\n",
      "Hour=55, Predicted=82.012118, Expected=80.272682\n",
      "1/1 [==============================] - 0s 24ms/step\n",
      "Hour=56, Predicted=81.146952, Expected=79.394409\n",
      "1/1 [==============================] - 0s 26ms/step\n",
      "Hour=57, Predicted=80.286649, Expected=79.356262\n",
      "1/1 [==============================] - 0s 26ms/step\n",
      "Hour=58, Predicted=80.230122, Expected=79.699562\n",
      "1/1 [==============================] - 0s 23ms/step\n",
      "Hour=59, Predicted=80.615296, Expected=80.132507\n",
      "1/1 [==============================] - 0s 26ms/step\n",
      "Hour=60, Predicted=81.024584, Expected=80.081612\n",
      "1/1 [==============================] - 0s 24ms/step\n",
      "Hour=61, Predicted=80.975998, Expected=80.452248\n",
      "1/1 [==============================] - 0s 25ms/step\n",
      "Hour=62, Predicted=81.314268, Expected=80.960693\n",
      "1/1 [==============================] - 0s 25ms/step\n",
      "Hour=63, Predicted=81.873560, Expected=82.335197\n",
      "1/1 [==============================] - 0s 26ms/step\n",
      "Hour=64, Predicted=83.225431, Expected=81.985901\n",
      "1/1 [==============================] - 0s 24ms/step\n",
      "Hour=65, Predicted=82.874109, Expected=82.210617\n",
      "1/1 [==============================] - 0s 26ms/step\n",
      "Hour=66, Predicted=83.090178, Expected=82.111870\n",
      "1/1 [==============================] - 0s 26ms/step\n",
      "Hour=67, Predicted=83.009157, Expected=80.495262\n",
      "1/1 [==============================] - 0s 26ms/step\n",
      "Hour=68, Predicted=81.380637, Expected=80.502724\n",
      "1/1 [==============================] - 0s 34ms/step\n",
      "Hour=69, Predicted=81.399768, Expected=84.062599\n",
      "1/1 [==============================] - 0s 26ms/step\n",
      "Hour=70, Predicted=84.949925, Expected=84.742500\n",
      "1/1 [==============================] - 0s 25ms/step\n",
      "Hour=71, Predicted=85.629661, Expected=84.297913\n",
      "1/1 [==============================] - 0s 26ms/step\n",
      "Hour=72, Predicted=85.185719, Expected=82.274620\n"
     ]
    }
   ],
   "source": [
    "predictions = list()\n",
    "expectations = list()\n",
    "test_pred = list()\n",
    "for i in range(len(test_scaled)):\n",
    "    # make one-step forecast\n",
    "    X, y = test_scaled[i, 0:-1], test_scaled[i, -1]\n",
    "    yhat = forecast_lstm(model, 1, X)#batch_size_exp to 1\n",
    "\n",
    "    # Replacing value in test scaled with the predicted value.\n",
    "    test_pred = [yhat] + test_pred \n",
    "    if len(test_pred) > lag_exp+1:\n",
    "        test_pred = test_pred[:-1]\n",
    "    if i+1<len(test_scaled):\n",
    "        if i+1 > lag_exp+1:\n",
    "            test_scaled[i+1] = test_pred\n",
    "        else:\n",
    "            test_scaled[i+1] = np.concatenate((test_pred, test_scaled[i+1, i+1:]),axis=0)\n",
    "\n",
    "    # invert scaling\n",
    "    yhat = invert_scale(scaler, X, yhat)\n",
    "    # invert differencing\n",
    "    yhat = inverse_difference(raw_values, yhat, len(test_scaled)+1-i)\n",
    "    # store forecast\n",
    "    expected = raw_values[len(train) + i + 1]\n",
    "    if expected != 0:\n",
    "        predictions.append(yhat)\n",
    "        expectations.append(expected)\n",
    "    print('Hour=%d, Predicted=%f, Expected=%f' % (i+1, yhat, expected))"
   ]
  },
  {
   "cell_type": "code",
   "execution_count": 29,
   "metadata": {},
   "outputs": [
    {
     "name": "stdout",
     "output_type": "stream",
     "text": [
      "Mean Absolute Percent Error:  3.481257506059648\n"
     ]
    }
   ],
   "source": [
    "expectations = np.array(expectations)\n",
    "predictions = np.array(predictions)\n",
    "print(\"Mean Absolute Percent Error: \", (np.mean(np.abs((expectations - predictions) / expectations))*100))"
   ]
  },
  {
   "cell_type": "code",
   "execution_count": 31,
   "metadata": {},
   "outputs": [
    {
     "data": {
      "image/png": "[encoded data removed]",
      "text/plain": [
       "<Figure size 640x480 with 1 Axes>"
      ]
     },
     "metadata": {},
     "output_type": "display_data"
    }
   ],
   "source": [
    "# line plot of observed vs predicted\n",
    "plt.plot(raw_values[-predict_values_exp:], label=\"True\")\n",
    "plt.plot(predictions, label=\"Predicted\")\n",
    "plt.legend(loc='upper right')\n",
    "plt.xlabel(\"Number of hours\")\n",
    "plt.ylabel(\"wind direction\")\n",
    "plt.show()"
   ]
  },
  {
   "cell_type": "code",
   "execution_count": 32,
   "metadata": {},
   "outputs": [],
   "source": [
    "import pickle\n",
    "\n",
    "with open('model.pkl', 'wb') as file:\n",
    "    pickle.dump(model, file)"
   ]
  },
  {
   "cell_type": "code",
   "execution_count": 43,
   "metadata": {},
   "outputs": [
    {
     "data": {
      "text/plain": [
       "<keras.engine.sequential.Sequential at 0x203a145edd0>"
      ]
     },
     "execution_count": 43,
     "metadata": {},
     "output_type": "execute_result"
    }
   ],
   "source": [
    "import pickle\n",
    "\n",
    "with open('model.pkl', 'wb') as file:\n",
    "    pickle.dump(model, file)"
   ]
  },
  {
   "cell_type": "code",
   "execution_count": null,
   "metadata": {},
   "outputs": [],
   "source": []
  }
 ],
 "metadata": {
  "kernelspec": {
   "display_name": "base",
   "language": "python",
   "name": "python3"
  },
  "language_info": {
   "codemirror_mode": {
    "name": "ipython",
    "version": 3
   },
   "file_extension": ".py",
   "mimetype": "text/x-python",
   "name": "python",
   "nbconvert_exporter": "python",
   "pygments_lexer": "ipython3",
   "version": "3.11.4"
  },
  "orig_nbformat": 4
 },
 "nbformat": 4,
 "nbformat_minor": 2
}
